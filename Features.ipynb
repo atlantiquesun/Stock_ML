{
  "nbformat": 4,
  "nbformat_minor": 0,
  "metadata": {
    "colab": {
      "name": "Features.ipynb",
      "provenance": [],
      "authorship_tag": "ABX9TyMnlt/mlLxhQ9/BOAthMnaM",
      "include_colab_link": true
    },
    "kernelspec": {
      "name": "python3",
      "display_name": "Python 3"
    },
    "language_info": {
      "name": "python"
    }
  },
  "cells": [
    {
      "cell_type": "markdown",
      "metadata": {
        "id": "view-in-github",
        "colab_type": "text"
      },
      "source": [
        "<a href=\"https://colab.research.google.com/github/atlantiquesun/Stock_ML/blob/main/Features.ipynb\" target=\"_parent\"><img src=\"https://colab.research.google.com/assets/colab-badge.svg\" alt=\"Open In Colab\"/></a>"
      ]
    },
    {
      "cell_type": "code",
      "metadata": {
        "id": "e3dY7Vy8HZAm"
      },
      "source": [
        "import pandas as pd\n",
        "import os"
      ],
      "execution_count": 1,
      "outputs": []
    },
    {
      "cell_type": "code",
      "metadata": {
        "id": "IS6NAWOfKm-8",
        "colab": {
          "base_uri": "https://localhost:8080/"
        },
        "outputId": "51d2f32f-055d-47b9-f78f-b29f1d3e6260"
      },
      "source": [
        "from google.colab import drive\n",
        "drive.mount('/content/drive')"
      ],
      "execution_count": 3,
      "outputs": [
        {
          "output_type": "stream",
          "text": [
            "Drive already mounted at /content/drive; to attempt to forcibly remount, call drive.mount(\"/content/drive\", force_remount=True).\n"
          ],
          "name": "stdout"
        }
      ]
    },
    {
      "cell_type": "code",
      "metadata": {
        "colab": {
          "base_uri": "https://localhost:8080/"
        },
        "id": "r8CunY7lQo8L",
        "outputId": "4b56b24a-5756-4ff5-906c-9a4dc7f62037"
      },
      "source": [
        "os.listdir(\"/content/drive/MyDrive/StockML /Data/\")"
      ],
      "execution_count": 4,
      "outputs": [
        {
          "output_type": "execute_result",
          "data": {
            "text/plain": [
              "['papers.csv',\n",
              " 'companyInfo',\n",
              " 'starHistory',\n",
              " '.ipynb_checkpoints',\n",
              " 'forkHistory',\n",
              " 'issueHistory',\n",
              " 'commitHistory',\n",
              " 'issueClosedHistory',\n",
              " 'pullRequestClosedHistory',\n",
              " 'pullRequestMergedHistory',\n",
              " 'pullRequestHistory',\n",
              " 'rawData',\n",
              " 'processedData',\n",
              " 'financialData']"
            ]
          },
          "metadata": {
            "tags": []
          },
          "execution_count": 4
        }
      ]
    },
    {
      "cell_type": "code",
      "metadata": {
        "id": "b-oOFigNKogp",
        "colab": {
          "base_uri": "https://localhost:8080/"
        },
        "outputId": "c42e3f98-fc8a-4940-8d71-0ce74e2aeb2e"
      },
      "source": [
        "#calculate the daily cumulative for each company\n",
        "companies = pd.read_csv(\"/content/drive/MyDrive/StockML /Data/companyInfo/companies_final.csv\")\n",
        "dataCategories = []\n",
        "for name in os.listdir(\"/content/drive/MyDrive/StockML /Data/\"):\n",
        "  if \"History\" in name: #if is a part of the raw data\n",
        "    dataCategories.append(name)\n",
        "\n",
        "for i in range(companies.shape[0]):\n",
        "  company = companies.at[i, 'githubUser']\n",
        "  normalizedName = companies.at[i, \"shortName\"]\n",
        "  print(company, normalizedName)\n",
        "  cumulativeData = {}\n",
        "  cumulativeData[\"date\"] = list(pd.date_range(start=\"1/01/1999\", end='9/01/2021').tz_localize(None)) #need to check the timezone\n",
        "  #calculate the cumulative data for each category\n",
        "  for category in dataCategories:\n",
        "    print(category[:-7])\n",
        "    df = pd.read_csv(\"/content/drive/MyDrive/StockML /Data/\"+category+\"/\"+company+\".csv\")\n",
        "    df[\"sum\"] = df.sum(axis=1)\n",
        "    cumulativeData[category[:-7]] = list(df[\"sum\"])\n",
        "  cumulativeData = pd.DataFrame(cumulativeData)\n",
        "  cumulativeData.to_csv(\"/content/drive/MyDrive/StockML /Data/processedData/cumulativeData/\"+company+\".csv\")\n",
        "  if(i==13): #currently only have the data for 14 companies (stopped at wix)\n",
        "    break"
      ],
      "execution_count": null,
      "outputs": [
        {
          "output_type": "stream",
          "text": [
            "amzn Amazon\n",
            "star\n",
            "fork\n",
            "issue\n",
            "commit\n",
            "issueClosed\n",
            "pullRequestClosed\n",
            "pullRequestMerged\n",
            "pullRequest\n",
            "slackapi Slack\n",
            "star\n",
            "fork\n",
            "issue\n",
            "commit\n",
            "issueClosed\n",
            "pullRequestClosed\n",
            "pullRequestMerged\n",
            "pullRequest\n",
            "cisco Cisco\n",
            "star\n",
            "fork\n",
            "issue\n",
            "commit\n",
            "issueClosed\n",
            "pullRequestClosed\n",
            "pullRequestMerged\n",
            "pullRequest\n",
            "elastic Elastic\n",
            "star\n",
            "fork\n",
            "issue\n",
            "commit\n",
            "issueClosed\n",
            "pullRequestClosed\n",
            "pullRequestMerged\n",
            "pullRequest\n",
            "netflix Netflix\n",
            "star\n",
            "fork\n",
            "issue\n",
            "commit\n",
            "issueClosed\n",
            "pullRequestClosed\n",
            "pullRequestMerged\n",
            "pullRequest\n",
            "pinterest Pinterest\n",
            "star\n",
            "fork\n",
            "issue\n",
            "commit\n",
            "issueClosed\n",
            "pullRequestClosed\n",
            "pullRequestMerged\n",
            "pullRequest\n",
            "shutterstock Shutterstock\n",
            "star\n",
            "fork\n",
            "issue\n",
            "commit\n",
            "issueClosed\n",
            "pullRequestClosed\n",
            "pullRequestMerged\n",
            "pullRequest\n",
            "intuit intuit\n",
            "star\n",
            "fork\n",
            "issue\n",
            "commit\n",
            "issueClosed\n",
            "pullRequestClosed\n",
            "pullRequestMerged\n",
            "pullRequest\n",
            "okta Okta\n",
            "star\n",
            "fork\n",
            "issue\n",
            "commit\n",
            "issueClosed\n",
            "pullRequestClosed\n",
            "pullRequestMerged\n",
            "pullRequest\n",
            "shopify Shopify\n",
            "star\n",
            "fork\n",
            "issue\n",
            "commit\n",
            "issueClosed\n",
            "pullRequestClosed\n",
            "pullRequestMerged\n",
            "pullRequest\n",
            "airbnb Airbnb\n",
            "star\n",
            "fork\n",
            "issue\n",
            "commit\n",
            "issueClosed\n",
            "pullRequestClosed\n",
            "pullRequestMerged\n",
            "pullRequest\n",
            "zendesk Zendesk\n",
            "star\n",
            "fork\n",
            "issue\n",
            "commit\n",
            "issueClosed\n",
            "pullRequestClosed\n"
          ],
          "name": "stdout"
        }
      ]
    },
    {
      "cell_type": "code",
      "metadata": {
        "id": "Z-wJC5MYFBjN"
      },
      "source": [
        "import requests\n",
        "company = \"amzn\"\n",
        "response = requests.get(\"https://api.github.com/users/\"+company)\n",
        "data = response.json()\n",
        "created_at = data['created_at']"
      ],
      "execution_count": 37,
      "outputs": []
    },
    {
      "cell_type": "code",
      "metadata": {
        "colab": {
          "base_uri": "https://localhost:8080/",
          "height": 419
        },
        "id": "6I8KAQAeHzMt",
        "outputId": "32663e62-3c44-475a-8a7e-3f9443fd1e35"
      },
      "source": [
        "from pandas_datareader import data as pdr\n",
        "from datetime import date\n",
        "\n",
        "#natural date range (creation date of the company's github page --- 2021-04-30)\n",
        "start_date = pd.to_datetime(created_at[:10]).tz_localize(None)\n",
        "end_date = pd.to_datetime(\"2021-04-30\").tz_localize(None)\n",
        "#for amzn, the first week start on 2014-09-02, the last week end on 2021-04-30\n",
        "start_date = pd.to_datetime(\"2019-09-02\").tz_localize(None)\n",
        "\n",
        "#select the stock data within the date range\n",
        "stockPrice = pd.read_csv(\"/content/drive/MyDrive/StockML /Data/financialData/AMZN.csv\")\n",
        "stockPrice['Date'] = pd.to_datetime(stockPrice['Date'])\n",
        "mask = (pd.to_datetime(stockPrice['Date'])>= start_date) & (pd.to_datetime(stockPrice['Date']) <= end_date)\n",
        "stockDataSelected = stockPrice.loc[mask].reset_index()\n",
        "\n",
        "#select the cumulative data within the date range\n",
        "mask = (cumulativeData['date'] >= start_date) & (cumulativeData['date'] <= end_date)\n",
        "cumulativeDataSelected = cumulativeData.loc[mask].reset_index()\n",
        "display(cumulativeDataSelected)"
      ],
      "execution_count": 80,
      "outputs": [
        {
          "output_type": "display_data",
          "data": {
            "text/html": [
              "<div>\n",
              "<style scoped>\n",
              "    .dataframe tbody tr th:only-of-type {\n",
              "        vertical-align: middle;\n",
              "    }\n",
              "\n",
              "    .dataframe tbody tr th {\n",
              "        vertical-align: top;\n",
              "    }\n",
              "\n",
              "    .dataframe thead th {\n",
              "        text-align: right;\n",
              "    }\n",
              "</style>\n",
              "<table border=\"1\" class=\"dataframe\">\n",
              "  <thead>\n",
              "    <tr style=\"text-align: right;\">\n",
              "      <th></th>\n",
              "      <th>index</th>\n",
              "      <th>date</th>\n",
              "      <th>star</th>\n",
              "      <th>fork</th>\n",
              "      <th>issue</th>\n",
              "      <th>commit</th>\n",
              "      <th>issueClosed</th>\n",
              "      <th>pullRequestClosed</th>\n",
              "      <th>pullRequestMerged</th>\n",
              "      <th>pullRequest</th>\n",
              "    </tr>\n",
              "  </thead>\n",
              "  <tbody>\n",
              "    <tr>\n",
              "      <th>0</th>\n",
              "      <td>7549</td>\n",
              "      <td>2019-09-02</td>\n",
              "      <td>2</td>\n",
              "      <td>0</td>\n",
              "      <td>1</td>\n",
              "      <td>33</td>\n",
              "      <td>0</td>\n",
              "      <td>0</td>\n",
              "      <td>0</td>\n",
              "      <td>5</td>\n",
              "    </tr>\n",
              "    <tr>\n",
              "      <th>1</th>\n",
              "      <td>7550</td>\n",
              "      <td>2019-09-03</td>\n",
              "      <td>6</td>\n",
              "      <td>1</td>\n",
              "      <td>2</td>\n",
              "      <td>18</td>\n",
              "      <td>2</td>\n",
              "      <td>2</td>\n",
              "      <td>2</td>\n",
              "      <td>0</td>\n",
              "    </tr>\n",
              "    <tr>\n",
              "      <th>2</th>\n",
              "      <td>7551</td>\n",
              "      <td>2019-09-04</td>\n",
              "      <td>2</td>\n",
              "      <td>1</td>\n",
              "      <td>6</td>\n",
              "      <td>10</td>\n",
              "      <td>3</td>\n",
              "      <td>5</td>\n",
              "      <td>4</td>\n",
              "      <td>3</td>\n",
              "    </tr>\n",
              "    <tr>\n",
              "      <th>3</th>\n",
              "      <td>7552</td>\n",
              "      <td>2019-09-05</td>\n",
              "      <td>2</td>\n",
              "      <td>1</td>\n",
              "      <td>7</td>\n",
              "      <td>39</td>\n",
              "      <td>3</td>\n",
              "      <td>6</td>\n",
              "      <td>5</td>\n",
              "      <td>4</td>\n",
              "    </tr>\n",
              "    <tr>\n",
              "      <th>4</th>\n",
              "      <td>7553</td>\n",
              "      <td>2019-09-06</td>\n",
              "      <td>3</td>\n",
              "      <td>0</td>\n",
              "      <td>3</td>\n",
              "      <td>9</td>\n",
              "      <td>5</td>\n",
              "      <td>4</td>\n",
              "      <td>4</td>\n",
              "      <td>5</td>\n",
              "    </tr>\n",
              "    <tr>\n",
              "      <th>...</th>\n",
              "      <td>...</td>\n",
              "      <td>...</td>\n",
              "      <td>...</td>\n",
              "      <td>...</td>\n",
              "      <td>...</td>\n",
              "      <td>...</td>\n",
              "      <td>...</td>\n",
              "      <td>...</td>\n",
              "      <td>...</td>\n",
              "      <td>...</td>\n",
              "    </tr>\n",
              "    <tr>\n",
              "      <th>602</th>\n",
              "      <td>8151</td>\n",
              "      <td>2021-04-26</td>\n",
              "      <td>16</td>\n",
              "      <td>11</td>\n",
              "      <td>8</td>\n",
              "      <td>14</td>\n",
              "      <td>7</td>\n",
              "      <td>7</td>\n",
              "      <td>4</td>\n",
              "      <td>8</td>\n",
              "    </tr>\n",
              "    <tr>\n",
              "      <th>603</th>\n",
              "      <td>8152</td>\n",
              "      <td>2021-04-27</td>\n",
              "      <td>13</td>\n",
              "      <td>3</td>\n",
              "      <td>8</td>\n",
              "      <td>8</td>\n",
              "      <td>2</td>\n",
              "      <td>7</td>\n",
              "      <td>7</td>\n",
              "      <td>4</td>\n",
              "    </tr>\n",
              "    <tr>\n",
              "      <th>604</th>\n",
              "      <td>8153</td>\n",
              "      <td>2021-04-28</td>\n",
              "      <td>34</td>\n",
              "      <td>4</td>\n",
              "      <td>7</td>\n",
              "      <td>19</td>\n",
              "      <td>4</td>\n",
              "      <td>6</td>\n",
              "      <td>6</td>\n",
              "      <td>6</td>\n",
              "    </tr>\n",
              "    <tr>\n",
              "      <th>605</th>\n",
              "      <td>8154</td>\n",
              "      <td>2021-04-29</td>\n",
              "      <td>39</td>\n",
              "      <td>8</td>\n",
              "      <td>13</td>\n",
              "      <td>13</td>\n",
              "      <td>7</td>\n",
              "      <td>6</td>\n",
              "      <td>6</td>\n",
              "      <td>5</td>\n",
              "    </tr>\n",
              "    <tr>\n",
              "      <th>606</th>\n",
              "      <td>8155</td>\n",
              "      <td>2021-04-30</td>\n",
              "      <td>18</td>\n",
              "      <td>6</td>\n",
              "      <td>4</td>\n",
              "      <td>6</td>\n",
              "      <td>3</td>\n",
              "      <td>5</td>\n",
              "      <td>2</td>\n",
              "      <td>6</td>\n",
              "    </tr>\n",
              "  </tbody>\n",
              "</table>\n",
              "<p>607 rows × 10 columns</p>\n",
              "</div>"
            ],
            "text/plain": [
              "     index       date  star  ...  pullRequestClosed  pullRequestMerged  pullRequest\n",
              "0     7549 2019-09-02     2  ...                  0                  0            5\n",
              "1     7550 2019-09-03     6  ...                  2                  2            0\n",
              "2     7551 2019-09-04     2  ...                  5                  4            3\n",
              "3     7552 2019-09-05     2  ...                  6                  5            4\n",
              "4     7553 2019-09-06     3  ...                  4                  4            5\n",
              "..     ...        ...   ...  ...                ...                ...          ...\n",
              "602   8151 2021-04-26    16  ...                  7                  4            8\n",
              "603   8152 2021-04-27    13  ...                  7                  7            4\n",
              "604   8153 2021-04-28    34  ...                  6                  6            6\n",
              "605   8154 2021-04-29    39  ...                  6                  6            5\n",
              "606   8155 2021-04-30    18  ...                  5                  2            6\n",
              "\n",
              "[607 rows x 10 columns]"
            ]
          },
          "metadata": {
            "tags": []
          }
        }
      ]
    },
    {
      "cell_type": "code",
      "metadata": {
        "colab": {
          "base_uri": "https://localhost:8080/"
        },
        "id": "Yt1rIo0LRILT",
        "outputId": "039c308e-f535-4454-c9e4-347e78e6ddd8"
      },
      "source": [
        "import scipy.stats\n",
        "import numpy as np\n",
        "\n",
        "x = np.array(list(stockDataSelected['Open']))\n",
        "y = []\n",
        "\n",
        "#remove the dates not in x\n",
        "stockDates = list(stockDataSelected['Date'])\n",
        "for i in range(cumulativeDataSelected.shape[0]):\n",
        "  if(cumulativeDataSelected.at[i, 'date'] in stockDates):\n",
        "    y.append(cumulativeDataSelected.at[i, 'pullRequest']+cumulativeDataSelected.at[i, 'star']+cumulativeDataSelected.at[i, 'issue'])\n",
        "y = np.array(y)\n",
        "\n",
        "print(x.shape, y.shape)\n",
        "\n",
        "print(\"Pearson:\", scipy.stats.pearsonr(x, y))\n",
        "print(\"Spearman:\", scipy.stats.spearmanr(x, y))\n",
        "print(\"Kendall:\", scipy.stats.kendalltau(x, y))"
      ],
      "execution_count": 81,
      "outputs": [
        {
          "output_type": "stream",
          "text": [
            "(419,) (419,)\n",
            "Pearson: (0.0250318125884401, 0.6093946222526339)\n",
            "Spearman: SpearmanrResult(correlation=0.4032129545699205, pvalue=8.213009227285086e-18)\n",
            "Kendall: KendalltauResult(correlation=0.2781943741900905, pvalue=6.185056183138645e-17)\n"
          ],
          "name": "stdout"
        }
      ]
    },
    {
      "cell_type": "code",
      "metadata": {
        "colab": {
          "base_uri": "https://localhost:8080/",
          "height": 484
        },
        "id": "P7XYibGwMxWJ",
        "outputId": "5a93ed31-8faf-46d8-b293-add462e512b3"
      },
      "source": [
        "import seaborn as sns\n",
        "import matplotlib.pyplot as plt\n",
        "#sns.lineplot(x = \"Date\", y = \"Close\", data = stockDataSelected)\n",
        "#sns.lineplot(x = \"date\", y = \"star\", data = cumulativeDataSelected)\n",
        "\n",
        "fig,ax =  plt.subplots( 2, 2, figsize = ( 18, 8))\n",
        "\n",
        "sns.lineplot(x = \"Date\", y = \"Close\", color = \"r\", data = stockDataSelected, ax = ax[0][0])\n",
        "ax[0][0].tick_params(labelrotation = 25)\n",
        "\n",
        "sns.lineplot(x = \"date\", y = \"star\", color = \"g\", data = cumulativeDataSelected, ax = ax[0][1])\n",
        "ax[0][1].tick_params(labelrotation = 25)\n",
        "\n",
        "sns.lineplot(x = \"date\", y = \"commit\", color = \"y\", data = cumulativeDataSelected, ax = ax[1][0])\n",
        "ax[1][0].tick_params(labelrotation = 25)\n",
        "\n",
        "sns.lineplot(x = \"date\", y = \"issue\", color = \"b\", data = cumulativeDataSelected, ax = ax[1][1])\n",
        "ax[1][1].tick_params(labelrotation = 25)\n"
      ],
      "execution_count": 54,
      "outputs": [
        {
          "output_type": "display_data",
          "data": {
            "image/png": "[encoded data removed]",
            "text/plain": [
              "<Figure size 1296x576 with 4 Axes>"
            ]
          },
          "metadata": {
            "tags": [],
            "needs_background": "light"
          }
        }
      ]
    }
  ]
}